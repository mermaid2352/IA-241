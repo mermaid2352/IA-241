{
 "cells": [
  {
   "cell_type": "code",
   "execution_count": 1,
   "metadata": {},
   "outputs": [],
   "source": [
    "import xlrd"
   ]
  },
  {
   "cell_type": "code",
   "execution_count": 2,
   "metadata": {},
   "outputs": [],
   "source": [
    "import xlwt"
   ]
  },
  {
   "cell_type": "code",
   "execution_count": 3,
   "metadata": {
    "scrolled": true
   },
   "outputs": [
    {
     "name": "stdout",
     "output_type": "stream",
     "text": [
      "Requirement already satisfied: xlutils in /home/ec2-user/anaconda3/envs/python3/lib/python3.6/site-packages (2.0.0)\n",
      "Requirement already satisfied: xlwt>=0.7.4 in /home/ec2-user/anaconda3/envs/python3/lib/python3.6/site-packages (from xlutils) (1.3.0)\n",
      "Requirement already satisfied: xlrd>=0.7.2 in /home/ec2-user/anaconda3/envs/python3/lib/python3.6/site-packages (from xlutils) (1.1.0)\n",
      "\u001b[33mYou are using pip version 10.0.1, however version 20.0.2 is available.\n",
      "You should consider upgrading via the 'pip install --upgrade pip' command.\u001b[0m\n"
     ]
    }
   ],
   "source": [
    "!pip install xlutils"
   ]
  },
  {
   "cell_type": "code",
   "execution_count": 4,
   "metadata": {},
   "outputs": [
    {
     "name": "stdout",
     "output_type": "stream",
     "text": [
      "<module 'xlrd' from '/home/ec2-user/anaconda3/envs/python3/lib/python3.6/site-packages/xlrd/__init__.py'>\n"
     ]
    }
   ],
   "source": [
    "print(xlrd)"
   ]
  },
  {
   "cell_type": "code",
   "execution_count": 5,
   "metadata": {
    "scrolled": true
   },
   "outputs": [
    {
     "data": {
      "text/plain": [
       "module"
      ]
     },
     "execution_count": 5,
     "metadata": {},
     "output_type": "execute_result"
    }
   ],
   "source": [
    "type(xlrd)"
   ]
  },
  {
   "cell_type": "code",
   "execution_count": 6,
   "metadata": {},
   "outputs": [],
   "source": [
    "Diamonds = xlrd.open_workbook('Diamonds.xls')"
   ]
  },
  {
   "cell_type": "markdown",
   "metadata": {},
   "source": [
    "# Q1"
   ]
  },
  {
   "cell_type": "code",
   "execution_count": 7,
   "metadata": {},
   "outputs": [],
   "source": [
    "Diamonds_sheet = Diamonds.sheet_by_name('Diamonds')"
   ]
  },
  {
   "cell_type": "code",
   "execution_count": 8,
   "metadata": {},
   "outputs": [
    {
     "name": "stdout",
     "output_type": "stream",
     "text": [
      "wt\n",
      "1.09\n",
      "p\n",
      "9107.0\n"
     ]
    }
   ],
   "source": [
    "weight = 'wt'\n",
    "price = 'p'\n",
    "\n",
    "print('wt')\n",
    "print(Diamonds_sheet.row_values(308)[1])\n",
    "\n",
    "print('p')\n",
    "print(Diamonds_sheet.row_values(308)[-1])"
   ]
  },
  {
   "cell_type": "markdown",
   "metadata": {},
   "source": [
    "# Q2"
   ]
  },
  {
   "cell_type": "code",
   "execution_count": 9,
   "metadata": {},
   "outputs": [
    {
     "name": "stdout",
     "output_type": "stream",
     "text": [
      "5019.483766233766\n"
     ]
    }
   ],
   "source": [
    "total = 't'\n",
    "t = 0.0\n",
    "\n",
    "Diamonds_sheet = Diamonds.sheet_by_index(0)\n",
    "for row in range(Diamonds_sheet.nrows):\n",
    "    if row > 0:\n",
    "        \n",
    "        t += Diamonds_sheet.cell_value(row, 5)\n",
    "        \n",
    "t = t / 308\n",
    "print(t)"
   ]
  },
  {
   "cell_type": "markdown",
   "metadata": {},
   "source": [
    "# Q3"
   ]
  },
  {
   "cell_type": "code",
   "execution_count": 10,
   "metadata": {},
   "outputs": [],
   "source": [
    "from xlutils.copy import copy"
   ]
  },
  {
   "cell_type": "code",
   "execution_count": 11,
   "metadata": {},
   "outputs": [],
   "source": [
    "Diamonds_b = xlrd.open_workbook('Diamonds.xls')\n",
    "\n",
    "Diamonds_s = Diamonds_b.sheet_by_index(0)\n",
    "\n",
    "Diamonds_w = copy(Diamonds_b)\n",
    "\n",
    "Dsheet_w = Diamonds_w.get_sheet(0)\n",
    "\n",
    "Dsheet_w.write(0,6,\"u p\")\n",
    "u_p = 0\n",
    "\n",
    "for row in range (Diamonds_s.nrows):\n",
    "    if row > 0:\n",
    "        u_p = Diamonds_s.cell_value(row,5)/Diamonds_s.cell_value(row,1)\n",
    "        \n",
    "        Dsheet_w.write(row,6,u_p)\n",
    "        \n",
    "Diamonds_w.save('Diamonds.xls')"
   ]
  },
  {
   "cell_type": "markdown",
   "metadata": {},
   "source": [
    "# Q4"
   ]
  },
  {
   "cell_type": "code",
   "execution_count": 13,
   "metadata": {},
   "outputs": [
    {
     "name": "stdout",
     "output_type": "stream",
     "text": [
      "[1.0, 0.3, 'D', 'VS2', 'GIA', 1302.0, 4340.0]\n",
      "[2.0, 0.3, 'E', 'VS1', 'GIA', 1510.0, 5033.333333333334]\n",
      "[3.0, 0.3, 'G', 'VVS1', 'GIA', 1510.0, 5033.333333333334]\n",
      "[4.0, 0.3, 'G', 'VS1', 'GIA', 1260.0, 4200.0]\n",
      "[5.0, 0.31, 'D', 'VS1', 'GIA', 1641.0, 5293.548387096775]\n",
      "[6.0, 0.31, 'E', 'VS1', 'GIA', 1555.0, 5016.129032258064]\n",
      "[7.0, 0.31, 'F', 'VS1', 'GIA', 1427.0, 4603.225806451613]\n",
      "[8.0, 0.31, 'G', 'VVS2', 'GIA', 1427.0, 4603.225806451613]\n",
      "[9.0, 0.31, 'H', 'VS2', 'GIA', 1126.0, 3632.2580645161293]\n",
      "[10.0, 0.31, 'I', 'VS1', 'GIA', 1126.0, 3632.2580645161293]\n"
     ]
    }
   ],
   "source": [
    "Diamonds_new = xlrd.open_workbook(\"Diamonds.xls\")\n",
    "\n",
    "Diamonds_new_sheet = Diamonds_new.sheet_by_index(0)\n",
    "for row in range(1,11,1):\n",
    "    if row > 0:\n",
    "        \n",
    "        print(Diamonds_new_sheet.row_values(row))"
   ]
  }
 ],
 "metadata": {
  "kernelspec": {
   "display_name": "conda_python3",
   "language": "python",
   "name": "conda_python3"
  },
  "language_info": {
   "codemirror_mode": {
    "name": "ipython",
    "version": 3
   },
   "file_extension": ".py",
   "mimetype": "text/x-python",
   "name": "python",
   "nbconvert_exporter": "python",
   "pygments_lexer": "ipython3",
   "version": "3.6.5"
  }
 },
 "nbformat": 4,
 "nbformat_minor": 4
}
